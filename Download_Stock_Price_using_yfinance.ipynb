{
  "nbformat": 4,
  "nbformat_minor": 0,
  "metadata": {
    "colab": {
      "name": "Download Stock Price using yfinance.ipynb",
      "provenance": [],
      "collapsed_sections": [],
      "mount_file_id": "1ZV1N4J0s-xKYbaS-ncr-9zqba15X8UMu",
      "authorship_tag": "ABX9TyNwjir9jDr8TWFjtcpC27uR"
    },
    "kernelspec": {
      "name": "python3",
      "display_name": "Python 3"
    }
  },
  "cells": [
    {
      "cell_type": "markdown",
      "metadata": {
        "id": "hsY0PBEjV9NR",
        "colab_type": "text"
      },
      "source": [
        "Code used to download daily stock price using python package yfinance. \n",
        "A file was created in google drive to store downloaded price on the initial run.\n",
        "After initial run, only new data are downloaded, then append to the existing data. "
      ]
    },
    {
      "cell_type": "code",
      "metadata": {
        "id": "eXr7hwMOJGz1",
        "colab_type": "code",
        "outputId": "4501b1e4-e009-4226-933e-ea139d1571bf",
        "colab": {
          "base_uri": "https://localhost:8080/",
          "height": 357
        }
      },
      "source": [
        "!pip install yfinance\n",
        "import yfinance as yf\n",
        "import pandas as pd\n",
        "import numpy as np\n",
        "import datetime as dt\n",
        "import requests"
      ],
      "execution_count": 0,
      "outputs": [
        {
          "output_type": "stream",
          "text": [
            "Collecting yfinance\n",
            "  Downloading https://files.pythonhosted.org/packages/c2/31/8b374a12b90def92a4e27d0fc595fc43635f395984e36a075244d98bd265/yfinance-0.1.54.tar.gz\n",
            "Requirement already satisfied: pandas>=0.24 in /usr/local/lib/python3.6/dist-packages (from yfinance) (0.25.3)\n",
            "Requirement already satisfied: numpy>=1.15 in /usr/local/lib/python3.6/dist-packages (from yfinance) (1.18.2)\n",
            "Requirement already satisfied: requests>=2.20 in /usr/local/lib/python3.6/dist-packages (from yfinance) (2.21.0)\n",
            "Requirement already satisfied: multitasking>=0.0.7 in /usr/local/lib/python3.6/dist-packages (from yfinance) (0.0.9)\n",
            "Requirement already satisfied: python-dateutil>=2.6.1 in /usr/local/lib/python3.6/dist-packages (from pandas>=0.24->yfinance) (2.8.1)\n",
            "Requirement already satisfied: pytz>=2017.2 in /usr/local/lib/python3.6/dist-packages (from pandas>=0.24->yfinance) (2018.9)\n",
            "Requirement already satisfied: certifi>=2017.4.17 in /usr/local/lib/python3.6/dist-packages (from requests>=2.20->yfinance) (2019.11.28)\n",
            "Requirement already satisfied: chardet<3.1.0,>=3.0.2 in /usr/local/lib/python3.6/dist-packages (from requests>=2.20->yfinance) (3.0.4)\n",
            "Requirement already satisfied: idna<2.9,>=2.5 in /usr/local/lib/python3.6/dist-packages (from requests>=2.20->yfinance) (2.8)\n",
            "Requirement already satisfied: urllib3<1.25,>=1.21.1 in /usr/local/lib/python3.6/dist-packages (from requests>=2.20->yfinance) (1.24.3)\n",
            "Requirement already satisfied: six>=1.5 in /usr/local/lib/python3.6/dist-packages (from python-dateutil>=2.6.1->pandas>=0.24->yfinance) (1.12.0)\n",
            "Building wheels for collected packages: yfinance\n",
            "  Building wheel for yfinance (setup.py) ... \u001b[?25l\u001b[?25hdone\n",
            "  Created wheel for yfinance: filename=yfinance-0.1.54-py2.py3-none-any.whl size=22409 sha256=8b0e58548fcca87fac6367ee630540b5c6069460c8d8ac2c21241bfa276c7b07\n",
            "  Stored in directory: /root/.cache/pip/wheels/f9/e3/5b/ec24dd2984b12d61e0abf26289746c2436a0e7844f26f2515c\n",
            "Successfully built yfinance\n",
            "Installing collected packages: yfinance\n",
            "Successfully installed yfinance-0.1.54\n"
          ],
          "name": "stdout"
        }
      ]
    },
    {
      "cell_type": "code",
      "metadata": {
        "id": "VrT0rIXDXBYo",
        "colab_type": "code",
        "colab": {}
      },
      "source": [
        "### Uncomment this code when running the code first time to download the history data and create a dataset in google drive. Skip this step if history data is downloaded and file is created. \n",
        "# tickers = {'Chevron':'cvx', 'Google': 'goog', 'Amazon':'amzn', 'Facebook':'fb', 'Exxon':'xom', 'Tesla': 'tsla', 'Apple': 'aapl',\n",
        "#            'Shell':'rds-a', 'BP':'bp', 'Microsoft':'msft','Honeywell':'hon','Gold':'gc=f','MYR':'myr=x', \n",
        "#            '10y Tresury':'^TNX', 'Brent':'bz=f', 'Copper':'hg=f', 'Lennar':'len', 'Phillips66':'psxp'}\n",
        "\n",
        "# df_stocks=pd.DataFrame()\n",
        "#   for key, value in tickers.items():\n",
        "#     download=yf.download(value)\n",
        "#     download = pd.DataFrame(download)\n",
        "#     download['name'] = key\n",
        "#     df_stocks=df_stocks.append(download)\n",
        "# df_stocks.to_excel('google_drive_path/file_name.xlsx', sheet_name='Sheet1')"
      ],
      "execution_count": 0,
      "outputs": []
    },
    {
      "cell_type": "code",
      "metadata": {
        "id": "kMsvsEZlRzfN",
        "colab_type": "code",
        "outputId": "3a65798f-43c0-4b41-827f-b2094fb9b45a",
        "colab": {
          "base_uri": "https://localhost:8080/",
          "height": 357
        }
      },
      "source": [
        "stocks=pd.read_excel('google_drive_path/file_name.xlsx', sheet_name='Sheet1') #Define start and end date for new download\n",
        "start=stocks.groupby(['name'])['Date'].max()\n",
        "start=pd.DataFrame(start)+ dt.timedelta(days=1)\n",
        "end=dt.date.today()\n",
        "print(start, end)"
      ],
      "execution_count": 0,
      "outputs": [
        {
          "output_type": "stream",
          "text": [
            "                  Date\n",
            "name                  \n",
            "10y Tresury 2020-03-24\n",
            "Amazon      2020-03-24\n",
            "Apple       2020-03-24\n",
            "BP          2020-03-24\n",
            "Brent       2020-03-24\n",
            "Chevron     2020-03-24\n",
            "Copper      2020-03-24\n",
            "Exxon       2020-03-24\n",
            "Facebook    2020-03-24\n",
            "Gold        2020-03-24\n",
            "Google      2020-03-24\n",
            "Honeywell   2020-03-24\n",
            "Lennar      2020-03-24\n",
            "MYR         2020-03-24\n",
            "Microsoft   2020-03-24\n",
            "Phillips66  2020-03-24\n",
            "Shell       2020-03-24\n",
            "Tesla       2020-03-24 2020-03-25\n"
          ],
          "name": "stdout"
        }
      ]
    },
    {
      "cell_type": "code",
      "metadata": {
        "id": "Ag5TotM7rPUi",
        "colab_type": "code",
        "outputId": "b2b38db1-0771-4421-f190-f52df134448f",
        "colab": {
          "base_uri": "https://localhost:8080/",
          "height": 323
        }
      },
      "source": [
        "#  Download new data from Yahoo Fiance\n",
        "tickers = {'Chevron':'cvx', 'Google': 'goog', 'Amazon':'amzn', 'Facebook':'fb', 'Exxon':'xom', 'Tesla': 'tsla', 'Apple': 'aapl',\n",
        "           'Shell':'rds-a', 'BP':'bp', 'Microsoft':'msft','Honeywell':'hon','Gold':'gc=f','MYR':'myr=x', \n",
        "           '10y Tresury':'^TNX', 'Brent':'bz=f', 'Copper':'hg=f', 'Lennar':'len', 'Phillips66':'psxp'}\n",
        "\n",
        "if start['Date'].min() <= end: \n",
        "    df_stocks=pd.DataFrame()\n",
        "    for key, value in tickers.items():            \n",
        "        download=yf.download(value, start=start.loc[key][0].date(), end=end)\n",
        "        download = pd.DataFrame(download)\n",
        "        download['name'] = key\n",
        "        df_stocks=df_stocks.append(download)\n",
        "else:\n",
        "    print('Already have latest data') "
      ],
      "execution_count": 0,
      "outputs": [
        {
          "output_type": "stream",
          "text": [
            "[*********************100%***********************]  1 of 1 completed\n",
            "[*********************100%***********************]  1 of 1 completed\n",
            "[*********************100%***********************]  1 of 1 completed\n",
            "[*********************100%***********************]  1 of 1 completed\n",
            "[*********************100%***********************]  1 of 1 completed\n",
            "[*********************100%***********************]  1 of 1 completed\n",
            "[*********************100%***********************]  1 of 1 completed\n",
            "[*********************100%***********************]  1 of 1 completed\n",
            "[*********************100%***********************]  1 of 1 completed\n",
            "[*********************100%***********************]  1 of 1 completed\n",
            "[*********************100%***********************]  1 of 1 completed\n",
            "[*********************100%***********************]  1 of 1 completed\n",
            "[*********************100%***********************]  1 of 1 completed\n",
            "[*********************100%***********************]  1 of 1 completed\n",
            "[*********************100%***********************]  1 of 1 completed\n",
            "[*********************100%***********************]  1 of 1 completed\n",
            "[*********************100%***********************]  1 of 1 completed\n",
            "[*********************100%***********************]  1 of 1 completed\n"
          ],
          "name": "stdout"
        }
      ]
    },
    {
      "cell_type": "markdown",
      "metadata": {
        "id": "HLG_oBOVdUuN",
        "colab_type": "text"
      },
      "source": [
        "Clean up downloaded data. \n",
        "Today's data isn't always correct, so code below will remove today's data.\n",
        "Sometimes, duplicate data are downloaded, code below will remove duplicates as well."
      ]
    },
    {
      "cell_type": "code",
      "metadata": {
        "id": "t_716T0gFefV",
        "colab_type": "code",
        "colab": {}
      },
      "source": [
        "## Clean up downloaded data. \n",
        "if len(df_stocks)>0: \n",
        "  df_stocks=df_stocks.reset_index()\n",
        "  df_stocks=df_stocks[df_stocks['Date']<pd.to_datetime('today').floor('d')]\n",
        "if len(df_stocks)>0:\n",
        "    df_stocks['Total']=df_stocks['High']+df_stocks['Volume']\n",
        "    df_stocks=df_stocks[df_stocks['Total'] == df_stocks.groupby(['name', 'Date'])['Total'].transform('max')]\n",
        "    df_stocks=df_stocks.drop('Total', axis=1)\n",
        "    df_stocks=df_stocks.drop_duplicates()\n",
        "    df_stocks=df_stocks.set_index('Date')\n",
        "    stocks=stocks.set_index('Date')\n",
        "    stocks=stocks.append(df_stocks, sort=False, ignore_index=False)      \n",
        "    stocks.to_excel('google_drive_path/file_name.xlsx', sheet_name='Sheet1')"
      ],
      "execution_count": 0,
      "outputs": []
    },
    {
      "cell_type": "code",
      "metadata": {
        "id": "mPY9fNBDFit_",
        "colab_type": "code",
        "outputId": "4e969161-24dd-4c6e-8f9c-a9673ff879be",
        "colab": {
          "base_uri": "https://localhost:8080/",
          "height": 34
        }
      },
      "source": [
        "## Code below check if any ticker were missing from download data. \n",
        "if len(df_stocks)<len(tickers):\n",
        "  missing_ticker=set(tickers.keys())-set(df_stocks['name'])\n",
        "  print('Missing:', missing_ticker)\n",
        "else:\n",
        "  print('All Tickers download')"
      ],
      "execution_count": 0,
      "outputs": [
        {
          "output_type": "stream",
          "text": [
            "All Tickers download\n"
          ],
          "name": "stdout"
        }
      ]
    },
    {
      "cell_type": "code",
      "metadata": {
        "id": "_lCzn-HgAELm",
        "colab_type": "code",
        "colab": {}
      },
      "source": [
        "# ## Code use for adding new ticker to the dataset\n",
        "# ticker = 'psxp'\n",
        "# name='Phillips66'  \n",
        "# df_new=yf.download(ticker )\n",
        "# df_new['name']=name\n",
        "# df_new=df_new.reset_index()\n",
        "# stocks=pd.read_excel('google_drive_path/file_name.xlsx', sheet_name='Sheet1')\n",
        "# new_ticker=stocks.append(df_new)\n",
        "# new_ticker=new_ticker.set_index('Date')\n",
        "# with pd.ExcelWriter('google_drive_path/file_name.xlsx'',engine='openpyxl') as writer:\n",
        "#     new_ticker.to_excel(writer)"
      ],
      "execution_count": 0,
      "outputs": []
    }
  ]
}